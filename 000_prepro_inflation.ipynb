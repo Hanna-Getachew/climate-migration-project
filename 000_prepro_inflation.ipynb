{
 "cells": [
  {
   "cell_type": "code",
   "execution_count": 1,
   "metadata": {},
   "outputs": [],
   "source": [
    "import pandas as pd\n",
    "import re"
   ]
  },
  {
   "cell_type": "code",
   "execution_count": 2,
   "metadata": {},
   "outputs": [],
   "source": [
    "df = pd.read_csv('data/economic/inflation_somalia.csv')"
   ]
  },
  {
   "cell_type": "code",
   "execution_count": 3,
   "metadata": {},
   "outputs": [
    {
     "data": {
      "text/plain": [
       "Index(['Country Name', 'Country Code', 'Indicator Name', 'Indicator Code',\n",
       "       'Attribute', '2020M1', '2020M2', '2020M3', '2020M4', '2020M5', '2020M6',\n",
       "       '2020M7', '2020M8', '2020M9', '2020M10', '2020M11', '2020M12', '2021M1',\n",
       "       '2021M2', '2021M3', '2021M4', '2021M5', '2021M6', '2021M7', '2021M8',\n",
       "       '2021M9', '2021M10', '2021M11', '2021M12', '2022M1', '2022M2', '2022M3',\n",
       "       '2022M4', '2022M5', '2022M6', '2022M7', '2022M8', '2022M9', '2022M10',\n",
       "       '2022M11', '2022M12', '2023M1', '2023M2', '2023M3', '2023M4', '2023M5',\n",
       "       '2023M6', '2023M7', '2023M8', '2023M9', '2023M10', '2023M11', '2023M12',\n",
       "       '2024M1', '2024M2', '2024M3', '2024M4', '2024M5', '2024M6', '2024M7',\n",
       "       '2024M8', '2024M9', '2024M10', '2024M11', '2024M12'],\n",
       "      dtype='object')"
      ]
     },
     "execution_count": 3,
     "metadata": {},
     "output_type": "execute_result"
    }
   ],
   "source": [
    "df.columns"
   ]
  },
  {
   "cell_type": "code",
   "execution_count": 4,
   "metadata": {},
   "outputs": [],
   "source": [
    "df = df.melt(id_vars = ['Country Name', 'Country Code', 'Indicator Name', 'Indicator Code', 'Attribute'])"
   ]
  },
  {
   "cell_type": "code",
   "execution_count": 5,
   "metadata": {},
   "outputs": [],
   "source": [
    "df['year'] = df['variable'].str[:4].astype(int)"
   ]
  },
  {
   "cell_type": "code",
   "execution_count": 6,
   "metadata": {},
   "outputs": [],
   "source": [
    "def extract_month_numbers(column_names):\n",
    "    month_numbers = []\n",
    "    for name in column_names:\n",
    "        # Use regex to find numbers after 'M'\n",
    "        match = re.search(r'M(\\d+)', name)\n",
    "        if match:\n",
    "            month_numbers.append(int(match.group(1)))\n",
    "    return month_numbers\n",
    "\n",
    "df['month'] = extract_month_numbers(df['variable'])"
   ]
  },
  {
   "cell_type": "code",
   "execution_count": 10,
   "metadata": {},
   "outputs": [],
   "source": [
    "df = df[['Country Name', 'year', 'month', 'value']]\n",
    "df.columns = ['country', 'year', 'month', 'inflation']"
   ]
  },
  {
   "cell_type": "code",
   "execution_count": 11,
   "metadata": {},
   "outputs": [],
   "source": [
    "df.to_csv('data/economic/inflation_somalia_cleaned.csv', index = False)"
   ]
  }
 ],
 "metadata": {
  "kernelspec": {
   "display_name": "hertie_climate_migration",
   "language": "python",
   "name": "python3"
  },
  "language_info": {
   "codemirror_mode": {
    "name": "ipython",
    "version": 3
   },
   "file_extension": ".py",
   "mimetype": "text/x-python",
   "name": "python",
   "nbconvert_exporter": "python",
   "pygments_lexer": "ipython3",
   "version": "3.9.21"
  }
 },
 "nbformat": 4,
 "nbformat_minor": 2
}
